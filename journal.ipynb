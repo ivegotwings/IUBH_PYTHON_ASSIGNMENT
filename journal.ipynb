{
 "cells": [
  {
   "cell_type": "markdown",
   "source": [
    "<h2>Loading Data</h2>\n",
    "\n",
    "The csvloader module supports loading information from the provided csv files. The script below prints basic information about the data.\n"
   ],
   "metadata": {}
  },
  {
   "cell_type": "code",
   "execution_count": 1,
   "source": [
    "from core.loaders.csvloader import csvloader;\n",
    "\n",
    "path_test_data = './data/test.csv'\n",
    "path_train_data = './data/train.csv'\n",
    "path_ideal_data = './data/ideal.csv'\n",
    "\n",
    "def load_data(path, label):\n",
    "    data_importer = csvloader.CSVLoader(path, label)\n",
    "    data_importer.read_csv()\n",
    "    return data_importer\n",
    "\n",
    "def print_csv_info(path, label):\n",
    "    loader = load_data(path, label)\n",
    "    loader.print_csv_info()\n",
    "\n",
    "print_csv_info(path_test_data, 'test.csv')\n",
    "print_csv_info(path_train_data, 'train.csv')\n",
    "print_csv_info(path_ideal_data, 'ideal.csv')\n",
    "\n"
   ],
   "outputs": [
    {
     "output_type": "stream",
     "name": "stdout",
     "text": [
      "file information for test.csv: {\"size\": 200, \"shape\": [100, 2], \"dimensions\": 2, \"type\": \"float64\"}\n",
      "file information for train.csv: {\"size\": 2000, \"shape\": [400, 5], \"dimensions\": 2, \"type\": \"float64\"}\n",
      "file information for ideal.csv: {\"size\": 20400, \"shape\": [400, 51], \"dimensions\": 2, \"type\": \"float64\"}\n"
     ]
    }
   ],
   "metadata": {}
  },
  {
   "cell_type": "markdown",
   "source": [
    "<h1>Cleaning Data</h1> \n",
    "The csvcleanser module cleans and prepares the data for analysis. It removes any NA entries and prepares a sorted data set by the first column.\n",
    "Values that are 2* standard deviations from the mean are considered outliers.\n",
    "\n"
   ],
   "metadata": {}
  },
  {
   "cell_type": "code",
   "execution_count": 2,
   "source": [
    "from core.cleanser.csvcleanser import csvcleanser;\n",
    "\n",
    "def print_cleansing_info(path, label):\n",
    "    loader = load_data(path, label)\n",
    "    data_cleanser = csvcleanser.CSVCleanser(loader.csv_data, loader.label)\n",
    "    data_cleanser.print_cleansing_info()\n",
    "\n",
    "print_cleansing_info(path_test_data, 'test.csv')\n",
    "print_cleansing_info(path_train_data, 'train.csv')\n",
    "print_cleansing_info(path_ideal_data, 'ideal.csv')\n"
   ],
   "outputs": [
    {
     "output_type": "stream",
     "name": "stdout",
     "text": [
      "cleaning file information for test.csv: {\"columns_with_na\": [], \"num_columns\": 2, \"sorted_by_index\": 0, \"removed_duplicated\": 0} with 11 Outliers\n",
      "cleaning file information for train.csv: {\"columns_with_na\": [], \"num_columns\": 5, \"sorted_by_index\": 0, \"removed_duplicated\": 0} with 20 Outliers\n",
      "cleaning file information for ideal.csv: {\"columns_with_na\": [], \"num_columns\": 51, \"sorted_by_index\": 0, \"removed_duplicated\": 0} with 0 Outliers\n"
     ]
    }
   ],
   "metadata": {}
  }
 ],
 "metadata": {
  "orig_nbformat": 4,
  "language_info": {
   "name": "python",
   "version": "3.9.7",
   "mimetype": "text/x-python",
   "codemirror_mode": {
    "name": "ipython",
    "version": 3
   },
   "pygments_lexer": "ipython3",
   "nbconvert_exporter": "python",
   "file_extension": ".py"
  },
  "kernelspec": {
   "name": "python3",
   "display_name": "Python 3.9.7 64-bit ('base': conda)"
  },
  "interpreter": {
   "hash": "dde6d2ccbb8f7ebb3ce651b3ee4cb85d89d30efa84b45eddd1f3eaeb7fd2fc83"
  }
 },
 "nbformat": 4,
 "nbformat_minor": 2
}